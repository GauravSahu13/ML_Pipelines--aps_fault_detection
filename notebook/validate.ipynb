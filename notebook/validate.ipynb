{
 "cells": [
  {
   "cell_type": "code",
   "execution_count": 10,
   "metadata": {},
   "outputs": [],
   "source": [
    "import numpy as np\n",
    "from scipy import stats\n",
    "rng = np.random.default_rng()\n",
    "target1 = stats.uniform.rvs(size=100, random_state=rng)\n",
    "target2 = stats.norm.rvs(size=110, random_state=rng)\n",
    "response = stats.ks_2samp(target1, target2)"
   ]
  },
  {
   "cell_type": "code",
   "execution_count": 11,
   "metadata": {},
   "outputs": [
    {
     "data": {
      "text/plain": [
       "array([0.28664597, 0.03364375, 0.76148333, 0.55332772, 0.58970844,\n",
       "       0.18840911, 0.15975275, 0.3830404 , 0.21997258, 0.14956043,\n",
       "       0.1262859 , 0.57197767, 0.59657057, 0.67280082, 0.7584796 ,\n",
       "       0.78970595, 0.72387527, 0.57722366, 0.7788052 , 0.46677657,\n",
       "       0.37736384, 0.17221221, 0.80002011, 0.99381579, 0.91370528,\n",
       "       0.47482826, 0.52059447, 0.31512355, 0.93588817, 0.62316165,\n",
       "       0.68939373, 0.9486686 , 0.97280793, 0.08745346, 0.91446899,\n",
       "       0.29835618, 0.78311783, 0.60220723, 0.13234283, 0.41497287,\n",
       "       0.93182496, 0.30498583, 0.73338259, 0.39398433, 0.19505138,\n",
       "       0.89152899, 0.724654  , 0.67867338, 0.8343453 , 0.35580345,\n",
       "       0.73663968, 0.20011765, 0.05244053, 0.12067544, 0.35287818,\n",
       "       0.3021253 , 0.85421892, 0.3245386 , 0.80233956, 0.35871205,\n",
       "       0.47641593, 0.61866888, 0.08003894, 0.13557329, 0.31444602,\n",
       "       0.34407958, 0.59602495, 0.14871659, 0.56877817, 0.6488813 ,\n",
       "       0.10624903, 0.44574226, 0.61280905, 0.54193403, 0.43255945,\n",
       "       0.59168523, 0.76851815, 0.27185827, 0.73170994, 0.44716401,\n",
       "       0.89393536, 0.50856206, 0.92357992, 0.51722166, 0.04936795,\n",
       "       0.25937753, 0.92274537, 0.03274484, 0.25552037, 0.14522442,\n",
       "       0.06174301, 0.32478749, 0.62018627, 0.26436357, 0.80691644,\n",
       "       0.19922904, 0.67430162, 0.65421599, 0.06854096, 0.81713655])"
      ]
     },
     "execution_count": 11,
     "metadata": {},
     "output_type": "execute_result"
    }
   ],
   "source": [
    "target1"
   ]
  },
  {
   "cell_type": "code",
   "execution_count": 12,
   "metadata": {},
   "outputs": [
    {
     "data": {
      "text/plain": [
       "array([ 6.51221198e-01, -1.02959738e+00, -1.14094578e+00,  9.13360701e-01,\n",
       "       -5.34199716e-01,  4.32391187e-01, -1.24190991e+00, -6.57282622e-01,\n",
       "        8.82412477e-01, -1.54526878e-01,  4.43620893e-01, -1.51131365e-01,\n",
       "       -3.95639799e-01, -2.31320182e-01,  2.58290202e+00, -1.22169809e+00,\n",
       "       -1.97134536e+00, -1.08522134e+00, -1.09957550e+00, -1.89738859e+00,\n",
       "       -1.79365299e-01,  1.07514695e+00,  1.22863518e-01,  2.54559450e-01,\n",
       "       -7.21798002e-01,  1.54524056e+00,  2.08413551e+00,  4.87158039e-01,\n",
       "       -2.45554066e-01, -2.39012801e-01, -2.28691223e+00, -7.65274060e-01,\n",
       "        3.85282921e-01, -2.01923346e-01,  1.40461613e+00,  3.64305601e-01,\n",
       "       -1.77815313e+00,  5.70407470e-02, -2.23654906e-01,  4.78897133e-01,\n",
       "       -1.74093110e+00, -9.61350061e-05, -1.50679309e+00,  7.37682517e-01,\n",
       "        7.14335858e-01,  1.53404472e+00, -3.01070352e-01,  1.72778674e-01,\n",
       "       -2.09476378e-01, -1.44388677e+00,  1.03315156e+00, -1.75765446e+00,\n",
       "        7.58778913e-02,  9.96621234e-01,  1.15455907e+00,  1.75706583e+00,\n",
       "       -6.40515074e-01,  3.88375080e-01,  1.27858606e+00,  1.19870144e+00,\n",
       "        8.30220380e-01,  1.04532288e+00, -9.60969014e-01,  2.13926672e+00,\n",
       "       -8.10063536e-01, -3.81707798e-01, -6.46195469e-01, -3.26009239e+00,\n",
       "       -1.15934119e+00,  6.29073097e-01,  6.88119554e-01,  2.81581409e-01,\n",
       "        1.10485304e+00,  1.06067501e+00,  5.26526494e-01,  8.55056679e-01,\n",
       "       -3.19076614e-01,  6.04552570e-01, -1.76597268e+00,  2.65569291e-01,\n",
       "       -2.52671098e-01,  2.02349130e+00,  2.08118036e+00, -2.30466271e-01,\n",
       "       -9.59536095e-04,  1.35514040e+00, -1.01225027e+00,  1.09836503e+00,\n",
       "        1.00117813e+00, -5.55123387e-01,  1.31991226e+00,  1.75120912e-01,\n",
       "        3.34461626e-01, -3.17834046e-01, -1.30777263e+00,  3.53775069e-01,\n",
       "        1.53547095e+00,  4.72501805e-01,  7.13684278e-01,  1.13799438e-01,\n",
       "        6.86664008e-01, -4.07851266e-01,  8.75546167e-01,  1.66841771e-01,\n",
       "       -1.46259557e+00,  8.00835062e-01, -1.22800441e+00, -1.23729197e-01,\n",
       "        2.11018853e+00,  1.16540477e+00])"
      ]
     },
     "execution_count": 12,
     "metadata": {},
     "output_type": "execute_result"
    }
   ],
   "source": [
    "target2"
   ]
  },
  {
   "cell_type": "code",
   "execution_count": 13,
   "metadata": {},
   "outputs": [
    {
     "data": {
      "text/plain": [
       "2.68809e-10"
      ]
     },
     "execution_count": 13,
     "metadata": {},
     "output_type": "execute_result"
    }
   ],
   "source": [
    "round(response.pvalue,16)\n",
    "# if p-value greater than 0.05 than both belong to same dataset"
   ]
  },
  {
   "cell_type": "code",
   "execution_count": null,
   "metadata": {},
   "outputs": [],
   "source": [
    "#Anomly in my dataset\n",
    "# \n",
    "# 1.High Null Value\n",
    "2. Missing COlumns\n",
    "3. Outlier\n",
    "4. Categorical: \n",
    "Gender--> MALE, FEMALE,OTHER\n"
   ]
  },
  {
   "cell_type": "code",
   "execution_count": 3,
   "metadata": {},
   "outputs": [],
   "source": [
    "import pandas as pd"
   ]
  },
  {
   "cell_type": "code",
   "execution_count": 4,
   "metadata": {},
   "outputs": [
    {
     "name": "stdout",
     "output_type": "stream",
     "text": [
      "1 4\n",
      "2 5\n",
      "3 6\n",
      "4 7\n"
     ]
    }
   ],
   "source": [
    "l1=[1,2,3,4]\n",
    "l2=[4,5,6,7]\n",
    "\n",
    "for l1_val,l2_val in zip(l1,l2):\n",
    "    print(l1_val,l2_val)"
   ]
  },
  {
   "cell_type": "code",
   "execution_count": 5,
   "metadata": {},
   "outputs": [],
   "source": [
    "df = pd.read_csv(r\"C:\\Users\\sahus\\project\\aps_fault_detection\\artifact\\03082024__142855\\data_ingestion\\dataset\\train.csv\")"
   ]
  },
  {
   "cell_type": "code",
   "execution_count": 6,
   "metadata": {},
   "outputs": [
    {
     "data": {
      "text/plain": [
       "0"
      ]
     },
     "execution_count": 6,
     "metadata": {},
     "output_type": "execute_result"
    }
   ],
   "source": [
    "len(df.iloc[:,[0]].drop(\"class\",axis=1).columns)"
   ]
  },
  {
   "cell_type": "code",
   "execution_count": null,
   "metadata": {},
   "outputs": [
    {
     "data": {
      "text/plain": [
       "Index(['ab_000', 'bk_000', 'bl_000', 'bm_000', 'bn_000', 'bo_000', 'bp_000',\n",
       "       'bq_000', 'br_000', 'cr_000'],\n",
       "      dtype='object')"
      ]
     },
     "execution_count": 28,
     "metadata": {},
     "output_type": "execute_result"
    }
   ],
   "source": []
  },
  {
   "cell_type": "code",
   "execution_count": 1,
   "metadata": {},
   "outputs": [],
   "source": [
    "from glob import glob"
   ]
  },
  {
   "cell_type": "code",
   "execution_count": 2,
   "metadata": {},
   "outputs": [
    {
     "data": {
      "text/plain": [
       "[]"
      ]
     },
     "execution_count": 2,
     "metadata": {},
     "output_type": "execute_result"
    }
   ],
   "source": [
    "glob(\"/config/workspace/saved_models/1/**/*.pkl\")"
   ]
  },
  {
   "cell_type": "code",
   "execution_count": 3,
   "metadata": {},
   "outputs": [
    {
     "data": {
      "text/plain": [
       "'1'"
      ]
     },
     "execution_count": 3,
     "metadata": {},
     "output_type": "execute_result"
    }
   ],
   "source": [
    "import os\n",
    "\n",
    "os.path.basename(\"saved_mode/1\")"
   ]
  },
  {
   "cell_type": "code",
   "execution_count": null,
   "metadata": {},
   "outputs": [],
   "source": []
  }
 ],
 "metadata": {
  "kernelspec": {
   "display_name": "Python 3.8.10 64-bit",
   "language": "python",
   "name": "python3"
  },
  "language_info": {
   "codemirror_mode": {
    "name": "ipython",
    "version": 3
   },
   "file_extension": ".py",
   "mimetype": "text/x-python",
   "name": "python",
   "nbconvert_exporter": "python",
   "pygments_lexer": "ipython3",
   "version": "3.11.7"
  },
  "orig_nbformat": 4,
  "vscode": {
   "interpreter": {
    "hash": "e7370f93d1d0cde622a1f8e1c04877d8463912d04d973331ad4851f04de6915a"
   }
  }
 },
 "nbformat": 4,
 "nbformat_minor": 2
}
